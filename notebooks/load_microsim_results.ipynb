{
 "cells": [
  {
   "cell_type": "code",
   "execution_count": null,
   "id": "c3e376bd",
   "metadata": {},
   "outputs": [],
   "source": [
    "import site\n",
    "from pathlib import Path\n",
    "\n",
    "site.addsitedir(Path(\"../src\"))"
   ]
  },
  {
   "cell_type": "code",
   "execution_count": null,
   "id": "c952265b",
   "metadata": {},
   "outputs": [],
   "source": [
    "import geopandas as gpd\n",
    "import numpy as np\n",
    "import pandas as pd\n",
    "\n",
    "from wsp_tasha_toolbox.data_model import MicrosimData"
   ]
  },
  {
   "cell_type": "code",
   "execution_count": null,
   "id": "7bdc3010",
   "metadata": {},
   "outputs": [],
   "source": [
    "self = MicrosimData.from_result_folder(\n",
    "    \"path/to/model_run_output_folder\",\n",
    "    \"path/to/zone_shapefile.shp\",\n",
    "    zone_label='TAZ'\n",
    ")\n",
    "self.attach_impedance('network', \"path/to/shortest_path.mtx\")"
   ]
  },
  {
   "cell_type": "code",
   "execution_count": null,
   "id": "7e9fe17a",
   "metadata": {},
   "outputs": [],
   "source": [
    "self.zones"
   ]
  },
  {
   "cell_type": "code",
   "execution_count": null,
   "id": "71b283e3",
   "metadata": {},
   "outputs": [],
   "source": [
    "self.impedances"
   ]
  },
  {
   "cell_type": "code",
   "execution_count": null,
   "id": "1a829dfd",
   "metadata": {},
   "outputs": [],
   "source": [
    "self.households"
   ]
  },
  {
   "cell_type": "code",
   "execution_count": null,
   "id": "9eae9e0b",
   "metadata": {},
   "outputs": [],
   "source": [
    "self.persons"
   ]
  },
  {
   "cell_type": "code",
   "execution_count": null,
   "id": "0f02eb36",
   "metadata": {},
   "outputs": [],
   "source": [
    "self.trips"
   ]
  },
  {
   "cell_type": "code",
   "execution_count": null,
   "id": "e3773b3c",
   "metadata": {},
   "outputs": [],
   "source": [
    "self.trip_modes"
   ]
  },
  {
   "cell_type": "code",
   "execution_count": null,
   "id": "d83b7a3e",
   "metadata": {},
   "outputs": [],
   "source": [
    "self.trip_stations"
   ]
  },
  {
   "cell_type": "code",
   "execution_count": null,
   "id": "81b811b7",
   "metadata": {},
   "outputs": [],
   "source": [
    "self.facilitate_passengers"
   ]
  },
  {
   "cell_type": "code",
   "execution_count": null,
   "id": "9f7e4d07",
   "metadata": {},
   "outputs": [],
   "source": []
  }
 ],
 "metadata": {
  "kernelspec": {
   "display_name": "wsp-tasha-toolbox",
   "language": "python",
   "name": "python3"
  },
  "language_info": {
   "codemirror_mode": {
    "name": "ipython",
    "version": 3
   },
   "file_extension": ".py",
   "mimetype": "text/x-python",
   "name": "python",
   "nbconvert_exporter": "python",
   "pygments_lexer": "ipython3",
   "version": "3.13.3"
  }
 },
 "nbformat": 4,
 "nbformat_minor": 5
}
