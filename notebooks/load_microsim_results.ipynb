{
 "cells": [
  {
   "cell_type": "code",
   "execution_count": null,
   "id": "c3e376bd",
   "metadata": {},
   "outputs": [],
   "source": [
    "import site\n",
    "from pathlib import Path\n",
    "\n",
    "site.addsitedir(Path(\"../src\"))"
   ]
  },
  {
   "cell_type": "code",
   "execution_count": null,
   "id": "c952265b",
   "metadata": {},
   "outputs": [],
   "source": [
    "import geopandas as gpd\n",
    "import pandas as pd\n",
    "\n",
    "from wsp_tasha_toolbox.data_models import MicrosimData"
   ]
  },
  {
   "cell_type": "code",
   "execution_count": null,
   "id": "3418c163",
   "metadata": {},
   "outputs": [],
   "source": [
    "self = MicrosimData.from_result_folder(r\"M:\\JESS\\Model Run Outputs\\2022_Base_20241001_WSPmodsys\")"
   ]
  },
  {
   "cell_type": "code",
   "execution_count": null,
   "id": "d2d417aa",
   "metadata": {},
   "outputs": [],
   "source": []
  }
 ],
 "metadata": {
  "kernelspec": {
   "display_name": "wsp-tasha-toolbox",
   "language": "python",
   "name": "python3"
  },
  "language_info": {
   "codemirror_mode": {
    "name": "ipython",
    "version": 3
   },
   "file_extension": ".py",
   "mimetype": "text/x-python",
   "name": "python",
   "nbconvert_exporter": "python",
   "pygments_lexer": "ipython3",
   "version": "3.13.3"
  }
 },
 "nbformat": 4,
 "nbformat_minor": 5
}
